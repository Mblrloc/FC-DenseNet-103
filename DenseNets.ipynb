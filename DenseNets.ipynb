{
  "cells": [
    {
      "cell_type": "code",
      "execution_count": null,
      "metadata": {
        "id": "9bCzUMDqFLoj"
      },
      "outputs": [],
      "source": [
        "from PIL import Image\n",
        "import numpy as np\n",
        "\n",
        "\n",
        "class ImageCropper:\n",
        "    def __init__(self, image_name):\n",
        "        self.image = np.asarray (Image.open(image_name))\n",
        "\n",
        "    def get_cropped_squares(self, original_square_size, offset=0):\n",
        "        height = len(self.image)\n",
        "        width = len(self.image[0])\n",
        "        square_size = original_square_size + offset\n",
        "\n",
        "        if (offset != 0):\n",
        "          upper_left = np.empty((square_size, square_size, 3))\n",
        "          upper_right = np.empty((square_size, square_size, 3))\n",
        "          lower_left = np.empty((square_size, square_size, 3))\n",
        "          lower_right = np.empty((square_size, square_size, 3))\n",
        "\n",
        "          upper = np.empty((square_size, width, 3))\n",
        "          lower = np.empty((square_size, width, 3))\n",
        "          left = np.empty((height, square_size, 3))\n",
        "          right = np.empty((height, square_size, 3))\n",
        "        else:\n",
        "          upper_left = np.empty((square_size, square_size))\n",
        "          upper_right = np.empty((square_size, square_size))\n",
        "          lower_left = np.empty((square_size, square_size))\n",
        "          lower_right = np.empty((square_size, square_size))\n",
        "\n",
        "          upper = np.empty((square_size, width))\n",
        "          lower = np.empty((square_size, width))\n",
        "          left = np.empty((height, square_size))\n",
        "          right = np.empty((height, square_size))\n",
        "\n",
        "        image = self.image\n",
        "\n",
        "        upper_left[:, :] = image[0: square_size, 0: square_size]\n",
        "        upper_left = np.flip(np.flip(upper_left, 0), 1)\n",
        "\n",
        "        upper_right[:, :] = image[0: square_size, width - square_size: width]\n",
        "        upper_right = np.flip(np.flip(upper_right, 0), 1)\n",
        "\n",
        "        lower_left[:, :] = image[height - square_size: height, 0: square_size]\n",
        "        lower_left = np.flip(np.flip(lower_left, 0), 1)\n",
        "\n",
        "        lower_right[:, :] = image[height - square_size: height, width - square_size: width]\n",
        "        lower_right = np.flip(np.flip(lower_right, 0), 1)\n",
        "\n",
        "        upper[:, :] = image[0: square_size, 0: width]\n",
        "        upper = np.flip(upper, 0)\n",
        "\n",
        "        lower[:, :] = image[height - square_size: height, 0: width]\n",
        "        lower = np.flip(lower, 0)\n",
        "\n",
        "        left[:, :] = image[0: height, 0: square_size]\n",
        "        left = np.flip(left, 1)\n",
        "\n",
        "        right[:, :] = image[0: height, width - square_size: width]\n",
        "        right = np.flip(right, 1)\n",
        "\n",
        "        upper = np.hstack((upper_left, upper, upper_right))\n",
        "        image = np.hstack((left, image, right))\n",
        "        lower = np.hstack((lower_left, lower, lower_right))\n",
        "\n",
        "        image = np.vstack((upper, image, lower))\n",
        "\n",
        "        cropped_squares_small = []\n",
        "        cropped_squares_big = []\n",
        "\n",
        "        square_size -= offset\n",
        "        #return image #!!!\n",
        "        den1 = 1\n",
        "        den2 = 1\n",
        "        if height % square_size == 0:\n",
        "            den1 = 0\n",
        "        if width % square_size == 0:\n",
        "            den2 = 0\n",
        "\n",
        "        if offset == 0:\n",
        "            for i in range(1, height // square_size + den1 + 1, 1):\n",
        "                for j in range(1, width // square_size + den2 + 1, 1):\n",
        "                    square = np.empty((square_size, square_size))\n",
        "                    square[:, :] = image[i * square_size: (i + 1) * square_size, j * square_size: (j + 1) * square_size]\n",
        "                    cropped_squares_small.append(square)\n",
        "\n",
        "            return cropped_squares_small\n",
        "        else:\n",
        "            for i in range(1, height // square_size + den1 + 1, 1):\n",
        "                for j in range(1, width // square_size + den2 + 1, 1):\n",
        "                    square = np.empty((square_size + 2 * offset, square_size + 2 * offset, 3))\n",
        "                    square[:, :] = image[i * square_size - offset: (i + 1) * square_size + offset, j * square_size - offset: (j + 1) * square_size + offset]\n",
        "                    cropped_squares_big.append(square)\n",
        "            return cropped_squares_big\n",
        "\n",
        "\n",
        "\n",
        "\n",
        "    @staticmethod\n",
        "    def save_cropped_images(path, cropped_images, ncounter=0, mask=''):\n",
        "        counter = ncounter + 1\n",
        "        for img in cropped_images:\n",
        "            im = Image.fromarray(img.astype(np.uint8))\n",
        "            im.save(path + f\"/img{counter}\" + mask + \".jpg\")\n",
        "            counter += 1\n",
        "        return counter"
      ]
    },
    {
      "cell_type": "code",
      "execution_count": null,
      "metadata": {
        "colab": {
          "base_uri": "https://localhost:8080/"
        },
        "id": "54j43Hiff-GY",
        "outputId": "4a693123-d46a-42c2-e8ef-9302ab720061"
      },
      "outputs": [
        {
          "output_type": "stream",
          "name": "stdout",
          "text": [
            "CUDA is available!\n"
          ]
        }
      ],
      "source": [
        "import torch\n",
        "import numpy as np\n",
        "\n",
        "train_on_gpu = torch.cuda.is_available()\n",
        "\n",
        "if not train_on_gpu:\n",
        "    print('Error: CUDA is not available!')\n",
        "else:\n",
        "    print('CUDA is available!')\n",
        "    DEVICE = torch.device(\"cuda\")"
      ]
    },
    {
      "cell_type": "code",
      "execution_count": null,
      "metadata": {
        "colab": {
          "base_uri": "https://localhost:8080/"
        },
        "id": "NjOq7n1hhnX8",
        "outputId": "21658282-60f1-4dab-d5ec-37ac3a2e3a5a"
      },
      "outputs": [
        {
          "output_type": "stream",
          "name": "stdout",
          "text": [
            "Mounted at /content/gdrive\n"
          ]
        }
      ],
      "source": [
        "from google.colab import drive\n",
        "drive.mount('/content/gdrive')"
      ]
    },
    {
      "cell_type": "code",
      "execution_count": null,
      "metadata": {
        "id": "XPyFNcLT4TQc"
      },
      "outputs": [],
      "source": [
        "#!unzip -q /content/gdrive/MyDrive/tissue-segment.zip -d data/new_data2"
      ]
    },
    {
      "cell_type": "code",
      "execution_count": null,
      "metadata": {
        "id": "7BmlYfWuk1W7"
      },
      "outputs": [],
      "source": [
        "#!unzip -q /content/gdrive/MyDrive/cropped.zip -d /content/data/cropped_data/"
      ]
    },
    {
      "cell_type": "code",
      "execution_count": null,
      "metadata": {
        "id": "kiL355jOmPrZ"
      },
      "outputs": [],
      "source": [
        "import os\n",
        "os.mkdir(\"/content/data\")\n",
        "os.mkdir(\"/content/data/cropped_data\")\n",
        "!unzip -q /content/gdrive/MyDrive/cropped.zip -d /content/data/cropped_data/"
      ]
    },
    {
      "cell_type": "code",
      "execution_count": null,
      "metadata": {
        "id": "7q7VfqwhlGj3"
      },
      "outputs": [],
      "source": [
        "import pickle\n",
        "import numpy as np\n",
        "from skimage import io\n",
        "import random\n",
        "import torch\n",
        "from tqdm import tqdm, tqdm_notebook\n",
        "import PIL\n",
        "from pathlib import Path\n",
        "\n",
        "from torchvision import transforms\n",
        "import torchvision.transforms.functional as TF\n",
        "from multiprocessing.pool import ThreadPool\n",
        "from sklearn.preprocessing import LabelEncoder\n",
        "from torch.utils.data import Dataset, DataLoader\n",
        "import torch.nn as nn\n",
        "import os\n",
        "from matplotlib import pyplot as plt"
      ]
    },
    {
      "cell_type": "code",
      "execution_count": null,
      "metadata": {
        "id": "4hsm3t5Xl6fj"
      },
      "outputs": [],
      "source": [
        "from traitlets.traitlets import Long\n",
        "class TissueDataset(Dataset):\n",
        "  \n",
        "  def __init__(self, pic_ans_arr):\n",
        "\n",
        "    super().__init__()\n",
        "    self.pic_ans_arr = pic_ans_arr\n",
        "    self.len_ = len(self.pic_ans_arr)\n",
        "\n",
        "    \n",
        "  def load_image(self, file):\n",
        "    image = Image.open(os.path.join('/content/data/cropped_data/cropped', file))\n",
        "    image.load()\n",
        "    return image\n",
        "\n",
        "  def __len__(self):\n",
        "    return self.len_\n",
        "\n",
        "  def __getitem__(self, index):\n",
        "    x = self.load_image(self.pic_ans_arr[index][0])\n",
        "    y = self.load_image(self.pic_ans_arr[index][1])\n",
        "    convert_tensor = transforms.ToTensor()\n",
        "    norm = transforms.Normalize(\n",
        "          mean=[0.6, 0.6, 0.6],\n",
        "          std=[0.229, 0.224, 0.225]\n",
        "    )\n",
        "\n",
        "    angle = random.choice([0, 90, 180, 270])\n",
        "    x = TF.rotate(x, angle)\n",
        "    y = TF.rotate(y, angle)\n",
        "\n",
        "    y = convert_tensor(y)\n",
        "    #print(torch.unique(y))\n",
        "    if random.randint(0, 1) == 1:\n",
        "      x = TF.hflip(x)\n",
        "      y = TF.hflip(y)\n",
        "    if random.randint(0, 1) == 1:\n",
        "      x = TF.vflip(x)\n",
        "      y = TF.vflip(y)\n",
        "    x = TF.adjust_contrast(img = x, contrast_factor=1.5)\n",
        "    x = TF.adjust_sharpness(img = x, sharpness_factor=1.5)\n",
        "    #torchvision.transforms.Grayscale(num_output_channels=1)\n",
        "    x = convert_tensor(x)\n",
        "    x = norm(x)\n",
        "    #x = x + torch.randn(x.size()) * torch.std(x) + torch.mean(x)\n",
        "\n",
        "    y = torch.where(y > 0.5, 1.0, 0.0)\n",
        "    if len(torch.unique(y)) == 2:\n",
        "      clas_n = 2\n",
        "    else:\n",
        "      clas_n = 1\n",
        "    return x, y, clas_n\n",
        "\n",
        "DIR = Path('/content/data/new_data2')\n",
        "train_files = sorted(DIR.rglob('*.jpg'))"
      ]
    },
    {
      "cell_type": "code",
      "execution_count": null,
      "metadata": {
        "id": "1Bkkd0B0tvbz"
      },
      "outputs": [],
      "source": [
        ""
      ]
    },
    {
      "cell_type": "code",
      "execution_count": null,
      "metadata": {
        "id": "KJKdwXPoqTEU"
      },
      "outputs": [],
      "source": [
        ""
      ]
    },
    {
      "cell_type": "code",
      "execution_count": null,
      "metadata": {
        "id": "xvN2Vg_sn-OY"
      },
      "outputs": [],
      "source": [
        "train_files_lb = [path.name for path in train_files]\n",
        "\n",
        "pic_arr = []\n",
        "ans_arr = []\n",
        "for nm in train_files_lb:\n",
        "  lenn = len(nm)\n",
        "  if nm[lenn - 8: lenn - 4] == \"mask\":\n",
        "    ans_arr.append(nm)\n",
        "  else:\n",
        "    pic_arr.append(nm)\n",
        "\n",
        "pic_ans_arr = []\n",
        "for i1 in range(len(ans_arr)):\n",
        "  pic_ans_arr.append(tuple(list([pic_arr[i1], ans_arr[i1]])))"
      ]
    },
    {
      "cell_type": "code",
      "execution_count": null,
      "metadata": {
        "id": "xSCsMzlSgSVv"
      },
      "outputs": [],
      "source": [
        "print(len(pic_ans_arr))"
      ]
    },
    {
      "cell_type": "code",
      "execution_count": null,
      "metadata": {
        "id": "BAW2RZFesdsM"
      },
      "outputs": [],
      "source": [
        "PIL.Image.MAX_IMAGE_PIXELS = 95398448000\n",
        "from torch.utils.data import Dataset\n",
        "\n",
        "ncounter = 0\n",
        "ncounter2 = 0\n",
        "i1 = 0\n",
        "cr_data_list = []\n",
        "\n",
        "\n",
        "for tup in pic_ans_arr:\n",
        "  pic_nm = tup[0]\n",
        "  answ_nm = tup[1]\n",
        "\n",
        "  print(pic_nm)\n",
        "\n",
        "  cropper = ImageCropper(\"data/new_data2/tissue-segment/\" + pic_nm)\n",
        "  big_squares = cropper.get_cropped_squares(250, 3)\n",
        "  ncounter = cropper.save_cropped_images(\"data/cropped_data2\", big_squares, ncounter)\n",
        "\n",
        "  del(cropper)\n",
        "  del(big_squares)\n",
        "  cropper = ImageCropper(\"data/new_data2/tissue-segment/\" + answ_nm)\n",
        "  big_squares = cropper.get_cropped_squares(250, 0)\n",
        "  ncounter2 = cropper.save_cropped_images(\"data/cropped_data2\", big_squares, ncounter2, mask=\"_mask\")\n",
        "\n",
        "  cr_data_list.append(tuple(list([pic_nm, answ_nm])))\n",
        "  i1 += 1\n",
        "  if i1 % 22 == 0:\n",
        "    print(str(100 * i1 / 220) + \"%\")\n",
        "  del(cropper)\n",
        "  del(big_squares)"
      ]
    },
    {
      "cell_type": "code",
      "execution_count": null,
      "metadata": {
        "id": "4kyNYXZ3YW6z"
      },
      "outputs": [],
      "source": [
        "print(ncounter)\n",
        "print(ncounter2)\n",
        "import shutil\n",
        "shutil.make_archive(\"cropped-data.zip\", 'zip', \"/content/data/cropped_data2/\")"
      ]
    },
    {
      "cell_type": "code",
      "execution_count": null,
      "metadata": {
        "id": "MYuCs3Qxr0RH"
      },
      "outputs": [],
      "source": [
        "path = \"/content/data/cropped_data/cropped\"\n",
        "dir_list = os.listdir(path)\n",
        "print(len(dir_list))\n",
        "pic_arr = []\n",
        "for nm in dir_list:\n",
        "  lenn = len(nm)\n",
        "  if nm[lenn - 8: lenn - 4] != \"mask\":\n",
        "    pic_arr.append(tuple(list([nm, nm[:lenn-4] + \"_mask.jpg\"])))"
      ]
    },
    {
      "cell_type": "code",
      "execution_count": null,
      "metadata": {
        "id": "j_dAuOeDb_hG"
      },
      "outputs": [],
      "source": [
        "del_sp = []\n",
        "for i1 in pic_arr:\n",
        "    image = Image.open(os.path.join('/content/data/cropped_data/cropped', i1[0]))\n",
        "    image.load()\n",
        "    image2 = Image.open(os.path.join('/content/data/cropped_data/cropped', i1[1]))\n",
        "    image2.load()\n",
        "    convert_tensor = transforms.ToTensor()\n",
        "    image = convert_tensor(image)\n",
        "    image2 = convert_tensor(image2)\n",
        "    if torch.mean(image) > 0.93 and len(torch.unique(image2)) == 1:\n",
        "      del_sp.append(i1)"
      ]
    },
    {
      "cell_type": "code",
      "execution_count": null,
      "metadata": {
        "id": "2JtI-gJGhOfy"
      },
      "outputs": [],
      "source": [
        "print(len(del_sp))"
      ]
    },
    {
      "cell_type": "code",
      "execution_count": null,
      "metadata": {
        "id": "zot13whOcrBo"
      },
      "outputs": [],
      "source": [
        "pic_arr_np = np.array(pic_arr)\n",
        "del_sp_np = np.array(del_sp)\n",
        "pic_arr_new = np.setdiff1d(pic_arr_np, del_sp_np)"
      ]
    },
    {
      "cell_type": "code",
      "execution_count": null,
      "metadata": {
        "id": "TxCh5iISgWui"
      },
      "outputs": [],
      "source": [
        "from numpy import save\n",
        "save('data.npy', pic_arr_new)"
      ]
    },
    {
      "cell_type": "code",
      "execution_count": null,
      "metadata": {
        "id": "fcQsHuFtpPmt"
      },
      "outputs": [],
      "source": [
        "from numpy import load\n",
        "pic_arr_new = np.load('gdrive/MyDrive/data.npy')"
      ]
    },
    {
      "cell_type": "code",
      "execution_count": null,
      "metadata": {
        "id": "qZngwYlZheUW"
      },
      "outputs": [],
      "source": [
        "pic_arr_th = []\n",
        "for nm in pic_arr_new:\n",
        "  lenn = len(nm)\n",
        "  if nm[lenn - 8: lenn - 4] != \"mask\":\n",
        "    pic_arr_th.append(tuple(list([nm, nm[:lenn-4] + \"_mask.jpg\"])))"
      ]
    },
    {
      "cell_type": "code",
      "execution_count": null,
      "metadata": {
        "colab": {
          "base_uri": "https://localhost:8080/"
        },
        "id": "w5nnnXHXhrI3",
        "outputId": "7aa5da5a-4a64-44f3-804d-c859c8baeeda"
      },
      "outputs": [
        {
          "name": "stdout",
          "output_type": "stream",
          "text": [
            "92120\n"
          ]
        },
        {
          "data": {
            "text/plain": [
              "('img100017.jpg', 'img100017_mask.jpg')"
            ]
          },
          "execution_count": 8,
          "metadata": {},
          "output_type": "execute_result"
        }
      ],
      "source": [
        "print(len(pic_arr_th))\n",
        "pic_arr_th[1]"
      ]
    },
    {
      "cell_type": "code",
      "execution_count": null,
      "metadata": {
        "colab": {
          "base_uri": "https://localhost:8080/"
        },
        "id": "nN5olh2nr6vF",
        "outputId": "ad0fb7d9-0cdc-43a7-e1f6-163a8c514339"
      },
      "outputs": [
        {
          "name": "stdout",
          "output_type": "stream",
          "text": [
            "69090\n",
            "23030\n",
            "44353\n",
            "24737\n"
          ]
        }
      ],
      "source": [
        "import random\n",
        "batch_size = 4\n",
        "\n",
        "from sklearn.model_selection import train_test_split\n",
        "from torch.utils.data import WeightedRandomSampler\n",
        "def gen_datloaders(pic_arr):\n",
        "  train_files, val_files = train_test_split(pic_arr_th, test_size=0.25)\n",
        "\n",
        "  print(len(train_files))\n",
        "  print(len(val_files))\n",
        "  sam = []\n",
        "  for i1 in train_files:\n",
        "    image2 = Image.open(os.path.join('/content/data/cropped_data/cropped', i1[1]))\n",
        "    image2.load()\n",
        "    convert_tensor = transforms.ToTensor()\n",
        "    image2 = convert_tensor(image2)\n",
        "    if (image2.sum() <= 256):\n",
        "      sam.append(1)\n",
        "    else:\n",
        "      sam.append(0)\n",
        "  sam = np.array(sam)\n",
        "  class_sum1 = sam.sum()\n",
        "  class_sum2 = len(train_files) - class_sum1\n",
        "  print(class_sum1)\n",
        "  print(class_sum2)\n",
        "  sam = np.where(sam == 1, 0.02, 0.04)\n",
        "  sam = torch.from_numpy(sam)\n",
        "\n",
        "  sampler = WeightedRandomSampler(sam.type('torch.DoubleTensor'), len(sam))\n",
        "\n",
        "  train_dataset = TissueDataset(train_files)\n",
        "  train_loader = torch.utils.data.DataLoader(train_dataset, batch_size=batch_size, shuffle=False, sampler = sampler)\n",
        "\n",
        "  val_dataset = TissueDataset(val_files)\n",
        "  val_loader = torch.utils.data.DataLoader(val_dataset, batch_size=batch_size, shuffle=False)\n",
        "  return train_loader, val_loader\n",
        "\n",
        "train_loader, val_loader = gen_datloaders(pic_arr_th)"
      ]
    },
    {
      "cell_type": "code",
      "execution_count": null,
      "metadata": {
        "id": "SJURg7kAsVnM"
      },
      "outputs": [],
      "source": [
        "i2 = 0\n",
        "m1 = 0\n",
        "m2 = 0\n",
        "m3 = 0\n",
        "s1 = 0\n",
        "s2 = 0\n",
        "s3 = 0\n",
        "for x, y in train_loader:\n",
        "  x = x.to(DEVICE)\n",
        "  y = y.to(DEVICE)\n",
        "  llen = len(x)\n",
        "  for it in range(llen):\n",
        "    i2 += 1\n",
        "    m1 += torch.mean(x[it][0]).data.cpu().numpy()\n",
        "    m2 += torch.mean(x[it][1]).data.cpu().numpy()\n",
        "    m3 += torch.mean(x[it][2]).data.cpu().numpy()\n",
        "    s1 += torch.std(x[it][0]).data.cpu().numpy()\n",
        "    s2 += torch.std(x[it][1]).data.cpu().numpy()\n",
        "    s3 += torch.std(x[it][2]).data.cpu().numpy()\n",
        "    if i2 % 10000 == 0:\n",
        "      print(i2)\n",
        "mean=[m1 / i2, m2 / i2, m3 / i2]\n",
        "std=[s1 / i2, s2 / i2, s3 / i2]\n",
        "print(mean)\n",
        "print(std)"
      ]
    },
    {
      "cell_type": "code",
      "execution_count": null,
      "metadata": {
        "colab": {
          "base_uri": "https://localhost:8080/"
        },
        "id": "tPBxywtl6az4",
        "outputId": "93f35ff9-158d-4e37-e136-87ac60b538a3"
      },
      "outputs": [
        {
          "name": "stdout",
          "output_type": "stream",
          "text": [
            "Requirement already satisfied: crfseg in /usr/local/lib/python3.7/dist-packages (1.0.0)\n",
            "Requirement already satisfied: numpy in /usr/local/lib/python3.7/dist-packages (from crfseg) (1.21.5)\n",
            "Requirement already satisfied: torch in /usr/local/lib/python3.7/dist-packages (from crfseg) (1.10.0+cu111)\n",
            "Requirement already satisfied: torchvision in /usr/local/lib/python3.7/dist-packages (from crfseg) (0.11.1+cu111)\n",
            "Requirement already satisfied: typing-extensions in /usr/local/lib/python3.7/dist-packages (from torch->crfseg) (3.10.0.2)\n",
            "Requirement already satisfied: pillow!=8.3.0,>=5.3.0 in /usr/local/lib/python3.7/dist-packages (from torchvision->crfseg) (7.1.2)\n"
          ]
        }
      ],
      "source": [
        "!pip install crfseg\n",
        "from crfseg import CRF\n",
        "from scipy import ndimage\n"
      ]
    },
    {
      "cell_type": "code",
      "execution_count": null,
      "metadata": {
        "id": "1cs9WGyHw0Bn"
      },
      "outputs": [],
      "source": [
        "\n",
        "\n",
        "for x, y, c in train_loader:\n",
        "  x2 = x[0]\n",
        "  #print(x2[0])\n",
        "\n",
        "  x3 = x2.cpu().detach().numpy()\n",
        "  fp_map = (x3[0] + x3[1] + x3[2]) / 3\n",
        "  fp_map =np.pad(fp_map, 3, mode = 'edge')\n",
        "  fp_map = np.where(fp_map < 0.7, 1, 0)\n",
        "  #print(fp_map)\n",
        "  mpy = y.numpy()\n",
        "  mp = ndimage.distance_transform_edt(mpy[0])\n",
        " # print(mp.shape)\n",
        " # print(mp)\n",
        "  mp = np.where(mp == 1, 1, 0)\n",
        "  mp2 = ndimage.distance_transform_edt(1 - mpy[0])\n",
        "  mp2 = np.where(mp2 == 1, 1, 0) \n",
        "  #print(\"mean: \" + str(torch.mean(x2)))\n",
        "  #print(torch.unique(y[0]))\n",
        "  #print(y[0])\n",
        "  plt.imshow(x2.permute(1, 2, 0))\n",
        "  plt.show()\n",
        "  plt.imshow(y[0][0], cmap='gray')\n",
        "  plt.show()\n",
        "  plt.imshow(fp_map, cmap='gray')\n",
        "  plt.show()\n",
        "  break"
      ]
    },
    {
      "cell_type": "code",
      "execution_count": null,
      "metadata": {
        "id": "gXbfunNjfZBi"
      },
      "outputs": [],
      "source": [
        "class Layer(nn.Module):\n",
        "  def __init__(self, in_channels, out_channels):\n",
        "    super().__init__()\n",
        "    self.bn1 = nn.BatchNorm2d(in_channels)\n",
        "    self.relu = nn.ReLU(inplace=True)\n",
        "    self.conv1 = nn.Conv2d(in_channels, out_channels, 3, padding=1, padding_mode='reflect')\n",
        "    self.drp = nn.Dropout(p=0.2)\n",
        "\n",
        "  def forward(self, x):\n",
        "    out = self.bn1(x)\n",
        "    out = self.relu(out)\n",
        "    out = self.conv1(out)\n",
        "    out = self.drp(out)\n",
        "    return out\n",
        "\n",
        "class DenseBlock(nn.Module):\n",
        "  def __init__(self, in_channels, llen, grow_rate=16):\n",
        "    super().__init__()\n",
        "    self.llen = llen\n",
        "    self.in_channels = in_channels\n",
        "    self.grow_rate = grow_rate\n",
        "    self.fir_layer = Layer(self.in_channels, self.grow_rate).to(DEVICE)\n",
        "    midlayers = []\n",
        "    for i1 in range(1, llen):\n",
        "      midlayers.append(Layer(self.in_channels + self.grow_rate * i1, self.grow_rate).to(DEVICE))\n",
        "    self.midlayers = midlayers\n",
        "\n",
        "  def forward(self, x):\n",
        "    final = self.fir_layer(x)\n",
        "    tek = torch.cat([x, final], 1)\n",
        "    llen = self.llen\n",
        "    for i1 in range(1, llen):\n",
        "      out = self.midlayers[i1 - 1](tek)\n",
        "      tek = torch.cat([tek, out], 1)\n",
        "      final = torch.cat([final, out], 1)\n",
        "    return final\n",
        "\n",
        "class TransitionDown(nn.Module):\n",
        "  def __init__(self, in_channels, out_channels):\n",
        "    super().__init__()\n",
        "    self.bn1 = nn.BatchNorm2d(in_channels)\n",
        "    self.relu = nn.ReLU(inplace=True)\n",
        "    self.conv1 = nn.Conv2d(in_channels, out_channels, 1, padding=0)\n",
        "    self.drp = nn.Dropout(p=0.2)\n",
        "    self.mxp = nn.MaxPool2d((2, 2))\n",
        "\n",
        "  def forward(self, x):\n",
        "    out = self.bn1(x)\n",
        "    out = self.relu(out)\n",
        "    out = self.conv1(out)\n",
        "    out = self.drp(out)\n",
        "    out = self.mxp(out)\n",
        "    return out\n",
        "\n",
        "class TransitionUP(nn.Module):\n",
        "  def __init__(self, in_channels, out_channels):\n",
        "    super().__init__()\n",
        "    self.trcv = nn.ConvTranspose2d(in_channels, out_channels, 3, stride=2, padding=1, output_padding=1)\n",
        "\n",
        "  def forward(self, x):\n",
        "    out = self.trcv(x)\n",
        "    return out\n"
      ]
    },
    {
      "cell_type": "code",
      "execution_count": null,
      "metadata": {
        "id": "9CMu2ls1qOWv"
      },
      "outputs": [],
      "source": [
        "class FCDenseNet103(nn.Module):\n",
        "  def __init__(self, num_classes=1, input_channels=3, sig=False, **kwargs):\n",
        "    super().__init__()\n",
        "    self.sigm = nn.Sigmoid()\n",
        "    self.trigger = sig\n",
        "    self.conv1 = nn.Conv2d(input_channels, 48, 3, padding=1)\n",
        "    \n",
        "    self.db1 = DenseBlock(48, 4, grow_rate=16)\n",
        "    self.td1 = TransitionDown(112, 112)\n",
        "\n",
        "    self.db2 = DenseBlock(112, 5, grow_rate=16)\n",
        "    self.td2 = TransitionDown(192, 192)\n",
        "    \n",
        "    self.db3 = DenseBlock(192, 7, grow_rate=16)\n",
        "    self.td3 = TransitionDown(304, 304)\n",
        "\n",
        "    self.db4 = DenseBlock(304, 10, grow_rate=16)\n",
        "    self.td4 = TransitionDown(464, 464)\n",
        "\n",
        "    self.db5 = DenseBlock(464, 12, grow_rate=16)\n",
        "    self.td5 = TransitionDown(656, 656)\n",
        "\n",
        "    self.db6 = DenseBlock(656, 15, grow_rate=16)\n",
        "\n",
        "    self.tu1 = TransitionUP(896, 896)\n",
        "    self.db7 = DenseBlock(896, 12, grow_rate=16)\n",
        "\n",
        "    self.tu2 = TransitionUP(1088, 656)\n",
        "    self.db8 = DenseBlock(656, 10, grow_rate=16)\n",
        "\n",
        "    self.tu3 = TransitionUP(816, 466)\n",
        "    self.db9 = DenseBlock(466, 7, grow_rate=16)\n",
        "\n",
        "    self.tu4 = TransitionUP(578, 304)\n",
        "    self.db10 = DenseBlock(304, 5, grow_rate=16)\n",
        "\n",
        "    self.tu5 = TransitionUP(384, 192)\n",
        "    self.db11 = DenseBlock(192, 4, grow_rate=16)\n",
        "\n",
        "    self.convlast = nn.Conv2d(256, 1, 1, padding=0)\n",
        "    self.sig = nn.Sigmoid()\n",
        "\n",
        "  def forward(self, x):\n",
        "    out_tek = self.conv1(x)\n",
        "\n",
        "    out_mid = self.db1(out_tek)\n",
        "    out_tek = torch.cat([out_tek, out_mid], 1)\n",
        "    out_tek = self.td1(out_tek)\n",
        "\n",
        "    out_mid = self.db2(out_tek)\n",
        "    out_tek = torch.cat([out_tek, out_mid], 1)\n",
        "    out_tek = self.td2(out_tek)\n",
        "    \n",
        "    out_mid = self.db3(out_tek)\n",
        "    out_tek = torch.cat([out_tek, out_mid], 1)\n",
        "    out_tek = self.td3(out_tek)\n",
        "\n",
        "    out_mid = self.db4(out_tek)\n",
        "    out_tek = torch.cat([out_tek, out_mid], 1)\n",
        "    out_tek = self.td4(out_tek)\n",
        "\n",
        "    out_mid = self.db5(out_tek)\n",
        "    out_tek = torch.cat([out_tek, out_mid], 1)\n",
        "    out_tek = self.td5(out_tek)\n",
        "\n",
        "    out_mid = self.db6(out_tek)\n",
        "    out_tek = torch.cat([out_tek, out_mid], 1)\n",
        "\n",
        "    out_tek = self.tu1(out_tek)\n",
        "    out_mid = self.db7(out_tek)\n",
        "    out_tek = torch.cat([out_tek, out_mid], 1)\n",
        "\n",
        "    out_tek = self.tu2(out_tek)\n",
        "    out_mid = self.db8(out_tek)\n",
        "    out_tek = torch.cat([out_tek, out_mid], 1)\n",
        "\n",
        "    out_tek = self.tu3(out_tek)\n",
        "    out_mid = self.db9(out_tek)\n",
        "    out_tek = torch.cat([out_tek, out_mid], 1)\n",
        "\n",
        "    out_tek = self.tu4(out_tek)\n",
        "    out_mid = self.db10(out_tek)\n",
        "    out_tek = torch.cat([out_tek, out_mid], 1)\n",
        "\n",
        "    out_tek = self.tu5(out_tek)\n",
        "    out_mid = self.db11(out_tek)\n",
        "    out_tek = torch.cat([out_tek, out_mid], 1)\n",
        "\n",
        "    out_tek = self.convlast(out_tek)\n",
        "    if self.trigger == True:\n",
        "      out_tek = self.sigm(out_tek)\n",
        "    return out_tek\n"
      ]
    },
    {
      "cell_type": "code",
      "execution_count": null,
      "metadata": {
        "id": "j4O-lVDJEGHh"
      },
      "outputs": [],
      "source": [
        "class DenseBlock_4(nn.Module):\n",
        "  def __init__(self, in_channels, grow_rate=12):\n",
        "    super().__init__()\n",
        "    self.llen = llen\n",
        "    self.in_channels = in_channels\n",
        "    self.grow_rate = grow_rate\n",
        "    self.layer1 = Layer(self.in_channels, self.grow_rate).to(DEVICE)\n",
        "    self.layer2 = Layer(self.in_channels + grow_rate, self.grow_rate).to(DEVICE)\n",
        "    self.layer3 = Layer(self.in_channels + 2 * grow_rate, self.grow_rate).to(DEVICE)\n",
        "    self.layer4 = Layer(self.in_channels + 3 * grow_rate, self.grow_rate).to(DEVICE)\n",
        " \n",
        "  def forward(self, x):\n",
        "    tek = torch.cat([x, self.layer1(x)], 1)\n",
        "    tek = torch.cat([self.layer2(tek), tek], 1)\n",
        "    tek = torch.cat([x, self.layer3(x)], 1)\n",
        "    tek = torch.cat([self.layer4(tek), tek], 1)\n",
        "    return tek"
      ]
    },
    {
      "cell_type": "code",
      "execution_count": null,
      "metadata": {
        "id": "ys03qYwCEgAp"
      },
      "outputs": [],
      "source": [
        ""
      ]
    },
    {
      "cell_type": "code",
      "execution_count": null,
      "metadata": {
        "colab": {
          "base_uri": "https://localhost:8080/",
          "height": 130
        },
        "id": "Kl9s0v63D_W7",
        "outputId": "cfd6c95a-d3d1-49aa-b522-1a730dfadc67"
      },
      "outputs": [
        {
          "ename": "SyntaxError",
          "evalue": "ignored",
          "output_type": "error",
          "traceback": [
            "\u001b[0;36m  File \u001b[0;32m\"<ipython-input-10-57c1442a2fd3>\"\u001b[0;36m, line \u001b[0;32m30\u001b[0m\n\u001b[0;31m    self.assppconvTD = nn.\u001b[0m\n\u001b[0m                          ^\u001b[0m\n\u001b[0;31mSyntaxError\u001b[0m\u001b[0;31m:\u001b[0m invalid syntax\n"
          ]
        }
      ],
      "source": [
        "class FCDenseNet56(nn.Module):\n",
        "  def __init__(self, num_classes=1, input_channels=3, sig=False, **kwargs):\n",
        "    super().__init__()\n",
        "    self.sig = sig\n",
        "    self.conv1 = nn.Conv2d(input_channels, 36, 3, padding=1, padding_mode='reflect')\n",
        "    \n",
        "    self.db1 = DenseBlock(36)\n",
        "    self.td1 = TransitionDown(84, 84)\n",
        "\n",
        "    self.db2 = DenseBlock(84)\n",
        "    self.td2 = TransitionDown(84 + 4 * 12, 144)\n",
        "    \n",
        "    self.db3 = DenseBlock(144)\n",
        "    self.td3 = TransitionDown(144 + 4 * 12, 228)\n",
        "\n",
        "    self.db4 = DenseBlock(228)\n",
        "    self.td4 = TransitionDown(228 + 4 * 12, 348)\n",
        "\n",
        "    self.db5 = DenseBlock(348)\n",
        "    self.td5 = TransitionDown(348 + 4 * 12, 624)\n",
        "\n",
        "\n",
        "\n",
        "    self.db6 = DenseBlock(624)\n",
        "\n",
        "    self.asppconv11 = nn.Conv2d(624 + 4 * 12, 156 + 12, 1, padding=0)\n",
        "    self.asppconv36 = nn.Conv2d(624 + 4 * 12, 156 + 12, 3, padding=6, dilation=6, padding_mode='reflect')\n",
        "    self.asppconv312 = nn.Conv2d(624 + 4 * 12, 156 + 12, 3, padding=12, dilation=12, padding_mode='reflect')\n",
        "    self.asppconv319 = nn.Conv2d(624 + 4 * 12, 156 + 12, 3, padding=18, dilation=18, padding_mode='reflect')\n",
        "    self.assppconvTD = nn.\n",
        "\n",
        "    self.tu1 = TransitionUP(896, 896)\n",
        "    self.db7 = DenseBlock(896, 12, grow_rate=16)\n",
        "\n",
        "    self.tu2 = TransitionUP(1088, 656)\n",
        "    self.db8 = DenseBlock(656, 10, grow_rate=16)\n",
        "\n",
        "    self.tu3 = TransitionUP(816, 466)\n",
        "    self.db9 = DenseBlock(466, 7, grow_rate=16)\n",
        "\n",
        "    self.tu4 = TransitionUP(578, 304)\n",
        "    self.db10 = DenseBlock(304, 5, grow_rate=16)\n",
        "\n",
        "    self.tu5 = TransitionUP(384, 192)\n",
        "    self.db11 = DenseBlock(192, 4, grow_rate=16)\n",
        "\n",
        "    self.convlast = nn.Conv2d(256, 1, 1, padding=0)\n",
        "    self.sig = nn.Sigmoid()\n",
        "\n",
        "  def forward(self, x):\n",
        "    out_tek = self.conv1(x)\n",
        "\n",
        "    out_mid = self.db1(out_tek)\n",
        "    out_tek = torch.cat([out_tek, out_mid], 1)\n",
        "    out_tek = self.td1(out_tek)\n",
        "\n",
        "    out_mid = self.db2(out_tek)\n",
        "    out_tek = torch.cat([out_tek, out_mid], 1)\n",
        "    out_tek = self.td2(out_tek)\n",
        "    \n",
        "    out_mid = self.db3(out_tek)\n",
        "    out_tek = torch.cat([out_tek, out_mid], 1)\n",
        "    out_tek = self.td3(out_tek)\n",
        "\n",
        "    out_mid = self.db4(out_tek)\n",
        "    out_tek = torch.cat([out_tek, out_mid], 1)\n",
        "    out_tek = self.td4(out_tek)\n",
        "\n",
        "    out_mid = self.db5(out_tek)\n",
        "    out_tek = torch.cat([out_tek, out_mid], 1)\n",
        "    out_tek = self.td5(out_tek)\n",
        "\n",
        "    out_mid = self.db6(out_tek)\n",
        "    out_tek = torch.cat([out_tek, out_mid], 1)\n",
        "\n",
        "    out_tek = self.tu1(out_tek)\n",
        "    out_mid = self.db7(out_tek)\n",
        "    out_tek = torch.cat([out_tek, out_mid], 1)\n",
        "\n",
        "    out_tek = self.tu2(out_tek)\n",
        "    out_mid = self.db8(out_tek)\n",
        "    out_tek = torch.cat([out_tek, out_mid], 1)\n",
        "\n",
        "    out_tek = self.tu3(out_tek)\n",
        "    out_mid = self.db9(out_tek)\n",
        "    out_tek = torch.cat([out_tek, out_mid], 1)\n",
        "\n",
        "    out_tek = self.tu4(out_tek)\n",
        "    out_mid = self.db10(out_tek)\n",
        "    out_tek = torch.cat([out_tek, out_mid], 1)\n",
        "\n",
        "    out_tek = self.tu5(out_tek)\n",
        "    out_mid = self.db11(out_tek)\n",
        "    out_tek = torch.cat([out_tek, out_mid], 1)\n",
        "\n",
        "    out_tek = self.convlast(out_tek)\n",
        "    if self.sig == True:\n",
        "      out_tek = self.sig(out_tek)\n",
        "    return out_tek\n"
      ]
    },
    {
      "cell_type": "code",
      "execution_count": null,
      "metadata": {
        "id": "5oQfdLvSq0et"
      },
      "outputs": [],
      "source": [
        "model = FCDenseNet103(1, sig=False)\n",
        "model = model.to(DEVICE)\n",
        "def weight_init(model):\n",
        "    if isinstance(model, nn.Conv2d) or isinstance(model, nn.Linear) or isinstance(model, nn.ConvTranspose2d):\n",
        "        nn.init.xavier_uniform_(model.weight.to(DEVICE), gain=nn.init.calculate_gain('relu'))\n",
        "        nn.init.zeros_(model.bias.to(DEVICE))\n",
        "\n",
        "weight_init(model)"
      ]
    },
    {
      "cell_type": "code",
      "execution_count": null,
      "metadata": {
        "id": "dCQx4XTUsZAR"
      },
      "outputs": [],
      "source": [
        "from math import e\n",
        "from math import sqrt\n",
        "from torch.autograd import Variable\n",
        "import torch.nn.functional as F\n",
        "\n",
        "def bce_loss(input, target):\n",
        "  res = 0\n",
        "  llen = len(input)\n",
        "  sig = nn.Sigmoid()  \n",
        "  input = sig(input)\n",
        "  input = torch.clamp(input, min=1e-3, max= 1 - 1e-3)\n",
        "  for i1 in range(llen):\n",
        "\n",
        "    tek_inp = input[i1][0]\n",
        "    tek_tar = target[i1][0]\n",
        "    summ = torch.sum(tek_tar)\n",
        "    n1 = 1 / (summ + 1)\n",
        "    n2 = 1 / (250 * 250 - summ + 1)\n",
        "    ll = sqrt(n1 * n1 + n2 * n2)\n",
        "    n1 = (n1 / (ll))\n",
        "    n2 = (n2 / (ll))\n",
        "    map = torch.where(tek_tar == 1, n1, n2)\n",
        "\n",
        "    bce = (- tek_tar * torch.log(tek_inp) - (1 - tek_tar) * torch.log(1 - tek_inp)) * map\n",
        "\n",
        "    res += torch.sum(bce)\n",
        "  return res / llen\n",
        "\n",
        "def dice_loss(input, target):\n",
        "    smooth = 1.\n",
        "\n",
        "    iflat = input.reshape(-1)\n",
        "    tflat = target.reshape(-1)\n",
        "    intersection = (iflat * tflat).sum()\n",
        "    \n",
        "    return 1 - ((2. * intersection + smooth) /  (iflat.sum() + tflat.sum() + smooth))\n",
        "                \n",
        "def com_loss(input, target):\n",
        "  return dice_loss(input, target) + bce_loss(input, target)"
      ]
    },
    {
      "cell_type": "code",
      "execution_count": null,
      "metadata": {
        "colab": {
          "base_uri": "https://localhost:8080/"
        },
        "id": "fuMX6Weavj4l",
        "outputId": "52e7b60d-d406-482b-90f3-96fc0f7fa636"
      },
      "outputs": [
        {
          "name": "stdout",
          "output_type": "stream",
          "text": [
            "tensor(0.0010, dtype=torch.float64)\n"
          ]
        }
      ],
      "source": [
        "inp = torch.from_numpy(np.array([[100, 100, 0.5, 0.5]]))\n",
        "trr = torch.from_numpy(np.array([[1,  1, 0, 0]]))\n",
        "print(bce_loss(inp, trr))"
      ]
    },
    {
      "cell_type": "markdown",
      "metadata": {
        "id": "2fjb-OurzBu9"
      },
      "source": [
        "i1 = 0 #Заморозим первые слои\n",
        "for layer in model.children():\n",
        "    if i1 <= 8:\n",
        "      for param in layer.parameters():\n",
        "        param.requires_grad = True\n",
        "    i1 += 1\n",
        "model = model.to(device)"
      ]
    },
    {
      "cell_type": "code",
      "execution_count": null,
      "metadata": {
        "id": "f7RI3TPD1GYR"
      },
      "outputs": [],
      "source": [
        "def diceScore(pred, real, sig=False):\n",
        "  pred = pred.cpu().detach().numpy()\n",
        "  real = real.cpu().detach().numpy()\n",
        "  tek_pred = pred.reshape(-1)\n",
        "  tek_real = real.reshape(-1)    \n",
        "  if (sig):\n",
        "    k = 0.5\n",
        "  else:\n",
        "    k = 0\n",
        "  tek_pred = np.where(tek_pred >= k, 1, 0)\n",
        "  ugd = (tek_pred * tek_real).sum()\n",
        "  ost = np.logical_xor(tek_pred, tek_real).sum()\n",
        "  smooth = 1e-6\n",
        "  res = (2 * ugd + smooth)/ (2 * ugd +  ost + smooth)\n",
        "  return res"
      ]
    },
    {
      "cell_type": "code",
      "execution_count": null,
      "metadata": {
        "id": "GtJKZ_5RnyU3"
      },
      "outputs": [],
      "source": [
        "from torch.optim import lr_scheduler\n",
        "def fit_epoch(model, train_loader, criterion, optimizer, sheduler, k_del):\n",
        "    running_loss = 0.0\n",
        "    running_corrects = 0\n",
        "    processed_data = 0\n",
        "    i1 = 0\n",
        "    sc = 0\n",
        "    sig = nn.Sigmoid()\n",
        "    for tissue_l, true_map_l, c in train_loader:\n",
        "        i1 += batch_size\n",
        "        if i1 % (1000) == 0:\n",
        "          print(i1 * 100 / (69090 / k_del))\n",
        "        if i1 > 69090 // k_del:\n",
        "          break\n",
        "        lenn = len(tissue_l)\n",
        "        #t_arr = []\n",
        "        #m_arr = []\n",
        "        #tek = 0\n",
        "        #   if len(torch.unique(true_map_l[it])) == 2:\n",
        "        #    t_arr.append(tissue_l[it])\n",
        "        #    m_arr.append(true_map_l[it])\n",
        "        #    tek += 1\n",
        "        #   else:\n",
        "        #     sc += 1\n",
        "        #\n",
        "        #  if tek != 0:\n",
        "        #    tissue = torch.stack(t_arr).to(DEVICE)\n",
        "        #    true_map = torch.stack(m_arr).to(DEVICE)\n",
        "        tissue = tissue_l.to(DEVICE)\n",
        "        true_map = true_map_l.to(DEVICE)\n",
        "        #map_arr = []\n",
        "\n",
        "        optimizer.zero_grad()\n",
        "\n",
        "        outputs = model(tissue)\n",
        "        outputs = outputs[:, :, 3: 256-3, 3:256-3]\n",
        "\n",
        "        loss = criterion(outputs, true_map)\n",
        "        #print(loss)\n",
        "        loss.backward()\n",
        "        optimizer.step()\n",
        "        running_loss += loss.item() * tissue.size(0)\n",
        "        running_corrects += diceScore(outputs, true_map, True)\n",
        "        processed_data += tissue.size(0)\n",
        "    sheduler.step() #Добавим шедулер\n",
        "    print(\"lr=\" + str(sheduler.get_last_lr())) #Проверим, что он правильно работает  \n",
        "    print(\"Bruhs:\" + str(sc))\n",
        "    train_loss = running_loss / processed_data\n",
        "    train_acc = running_corrects / processed_data\n",
        "    return train_loss, train_acc"
      ]
    },
    {
      "cell_type": "code",
      "execution_count": null,
      "metadata": {
        "id": "0YWrmLMgnz2u"
      },
      "outputs": [],
      "source": [
        "def eval_epoch(model, val_loader, criterion, k_del):\n",
        "    model.eval()\n",
        "    running_loss = 0.0\n",
        "    running_corrects = 0\n",
        "    processed_size = 0\n",
        "    i1 = 0\n",
        "    sig = nn.Sigmoid()\n",
        "    for tissue, true_map, c in val_loader:\n",
        "      i1 += batch_size\n",
        "      if (i1 > 23030 // k_del):\n",
        "        break\n",
        "      tissue = tissue.to(DEVICE)\n",
        "      true_map = true_map.to(DEVICE)\n",
        "\n",
        "      with torch.set_grad_enabled(False):\n",
        "          outputs = model(tissue)\n",
        "          outputs = outputs[:, :, 3: 256-3, 3:256-3]\n",
        "          loss = criterion(outputs, true_map)\n",
        "\n",
        "      running_loss += loss.item() * tissue.size(0)\n",
        "      running_corrects += diceScore(outputs, true_map, True)\n",
        "      processed_size += tissue.size(0)\n",
        "    val_loss = running_loss / processed_size\n",
        "    val_acc = running_corrects / processed_size\n",
        "    return val_loss, val_acc"
      ]
    },
    {
      "cell_type": "code",
      "execution_count": null,
      "metadata": {
        "id": "Z2F2eCddtcdb"
      },
      "outputs": [],
      "source": [
        "def train(model, epochs, k_del, train_loader, val_loader, lr):\n",
        "    history = []\n",
        "    log_template = \"\\nEpoch {ep:03d} train_loss: {t_loss:0.4f} \\\n",
        "    val_loss {v_loss:0.4f} train_acc {t_acc:0.4f} val_acc {v_acc:0.4f}\"\n",
        "    with tqdm(desc=\"epoch\", total=epochs) as pbar_outer:\n",
        "        criterion = bce_loss\n",
        "        optimizer = torch.optim.Adam(model.parameters(), lr = lr, weight_decay=lr / 10) #Данный оптимайзер хорошо себя показал\n",
        "        exp_lr_scheduler = torch.optim.lr_scheduler.StepLR(optimizer, step_size=2, gamma=0.9) #На последних двух эпохах сильно уменьшим lr\n",
        "        for epoch in range(epochs):\n",
        "            train_loss, train_acc = fit_epoch(model, train_loader, criterion, optimizer, exp_lr_scheduler, k_del)\n",
        "            print(\"loss\", train_loss)\n",
        "            print(\"train_acc\", train_acc)\n",
        "\n",
        "            val_loss, val_acc = eval_epoch(model, val_loader, criterion, k_del)\n",
        "            history.append((train_loss, train_acc, val_loss, val_acc))\n",
        "            pbar_outer.update(1)\n",
        "            tqdm.write(log_template.format(ep=epoch+1, t_loss=train_loss,\\\n",
        "                                           v_loss=val_loss, t_acc=train_acc, v_acc=val_acc))\n",
        "            \n",
        "    return history"
      ]
    },
    {
      "cell_type": "code",
      "execution_count": null,
      "metadata": {
        "colab": {
          "base_uri": "https://localhost:8080/"
        },
        "id": "DlI57c_63QH4",
        "outputId": "55500439-e499-4405-b7b6-1e1bfc9470df"
      },
      "outputs": [
        {
          "name": "stdout",
          "output_type": "stream",
          "text": [
            "13663\n"
          ]
        }
      ],
      "source": [
        "import pynvml \n",
        "import gc\n",
        "\n",
        "gc.collect()\n",
        "torch.cuda.empty_cache()\n",
        "def get_memory_free_MiB(gpu_index):\n",
        "    pynvml.nvmlInit()\n",
        "    handle = pynvml.nvmlDeviceGetHandleByIndex(int(gpu_index))\n",
        "    mem_info = pynvml.nvmlDeviceGetMemoryInfo(handle)\n",
        "    return mem_info.free // 1024 ** 2\n",
        "\n",
        "print(get_memory_free_MiB('0'))"
      ]
    },
    {
      "cell_type": "code",
      "execution_count": null,
      "metadata": {
        "id": "TQEFX0dv93cw"
      },
      "outputs": [],
      "source": [
        "model2 = FCDenseNet103(1, sig=False)\n",
        "model2.load_state_dict(torch.load('model'))\n",
        "model2 = model2.to(DEVICE)"
      ]
    },
    {
      "cell_type": "code",
      "execution_count": null,
      "metadata": {
        "colab": {
          "background_save": true,
          "base_uri": "https://localhost:8080/"
        },
        "id": "eqvBW2Ik036S",
        "outputId": "96bbea0b-fe5d-4270-a588-0facc3e1019a"
      },
      "outputs": [
        {
          "name": "stderr",
          "output_type": "stream",
          "text": [
            "\repoch:   0%|          | 0/15 [00:00<?, ?it/s]"
          ]
        },
        {
          "name": "stdout",
          "output_type": "stream",
          "text": [
            "7.236937328122738\n",
            "14.473874656245476\n",
            "21.710811984368217\n",
            "28.947749312490952\n",
            "36.18468664061369\n",
            "43.421623968736434\n",
            "50.65856129685917\n",
            "57.895498624981904\n",
            "65.13243595310465\n",
            "72.36937328122738\n",
            "79.60631060935012\n",
            "86.84324793747287\n",
            "94.0801852655956\n",
            "lr=[5e-05]\n",
            "Bruhs:0\n",
            "loss 5637.321392663086\n",
            "train_acc 0.12446254483304099\n"
          ]
        },
        {
          "name": "stderr",
          "output_type": "stream",
          "text": [
            "epoch:   7%|▋         | 1/15 [59:07<13:47:41, 3547.25s/it]"
          ]
        },
        {
          "name": "stdout",
          "output_type": "stream",
          "text": [
            "\n",
            "Epoch 001 train_loss: 5637.3214     val_loss 3633.2685 train_acc 0.1245 val_acc 0.0997\n",
            "7.236937328122738\n",
            "14.473874656245476\n",
            "21.710811984368217\n",
            "28.947749312490952\n",
            "36.18468664061369\n",
            "43.421623968736434\n",
            "50.65856129685917\n",
            "57.895498624981904\n"
          ]
        }
      ],
      "source": [
        "history = train(model2, 15, 5, train_loader, val_loader, 5e-5)"
      ]
    },
    {
      "cell_type": "code",
      "execution_count": null,
      "metadata": {
        "id": "GwRDyDrcBrEH"
      },
      "outputs": [],
      "source": [
        "\n",
        "for layer in model.children():\n",
        "    if i1 <=len(list(model.children())):\n",
        "      for param in layer.parameters():\n",
        "        param.requires_grad = False\n",
        "\n",
        "model2 = nn.Sequential(\n",
        "    model,  # your NN\n",
        "    CRF(n_spatial_dims=2)\n",
        ")"
      ]
    },
    {
      "cell_type": "code",
      "execution_count": null,
      "metadata": {
        "id": "VZyo44PlxXvJ"
      },
      "outputs": [],
      "source": [
        "torch.save(model.state_dict(), 'model')"
      ]
    },
    {
      "cell_type": "code",
      "execution_count": null,
      "metadata": {
        "colab": {
          "base_uri": "https://localhost:8080/"
        },
        "id": "cTSpvV3cxuwH",
        "outputId": "308605ff-f4cb-4439-d025-77a9f3d594fc"
      },
      "outputs": [
        {
          "data": {
            "text/plain": [
              "FCDenseNet103(\n",
              "  (conv1): Conv2d(3, 48, kernel_size=(3, 3), stride=(1, 1), padding=(1, 1))\n",
              "  (db1): DenseBlock(\n",
              "    (fir_layer): Layer(\n",
              "      (bn1): BatchNorm2d(48, eps=1e-05, momentum=0.1, affine=True, track_running_stats=True)\n",
              "      (relu): ReLU(inplace=True)\n",
              "      (conv1): Conv2d(48, 16, kernel_size=(3, 3), stride=(1, 1), padding=(1, 1))\n",
              "      (drp): Dropout(p=0.2, inplace=False)\n",
              "    )\n",
              "  )\n",
              "  (td1): TransitionDown(\n",
              "    (bn1): BatchNorm2d(112, eps=1e-05, momentum=0.1, affine=True, track_running_stats=True)\n",
              "    (relu): ReLU(inplace=True)\n",
              "    (conv1): Conv2d(112, 112, kernel_size=(1, 1), stride=(1, 1))\n",
              "    (drp): Dropout(p=0.2, inplace=False)\n",
              "    (mxp): MaxPool2d(kernel_size=(2, 2), stride=(2, 2), padding=0, dilation=1, ceil_mode=False)\n",
              "  )\n",
              "  (db2): DenseBlock(\n",
              "    (fir_layer): Layer(\n",
              "      (bn1): BatchNorm2d(112, eps=1e-05, momentum=0.1, affine=True, track_running_stats=True)\n",
              "      (relu): ReLU(inplace=True)\n",
              "      (conv1): Conv2d(112, 16, kernel_size=(3, 3), stride=(1, 1), padding=(1, 1))\n",
              "      (drp): Dropout(p=0.2, inplace=False)\n",
              "    )\n",
              "  )\n",
              "  (td2): TransitionDown(\n",
              "    (bn1): BatchNorm2d(192, eps=1e-05, momentum=0.1, affine=True, track_running_stats=True)\n",
              "    (relu): ReLU(inplace=True)\n",
              "    (conv1): Conv2d(192, 192, kernel_size=(1, 1), stride=(1, 1))\n",
              "    (drp): Dropout(p=0.2, inplace=False)\n",
              "    (mxp): MaxPool2d(kernel_size=(2, 2), stride=(2, 2), padding=0, dilation=1, ceil_mode=False)\n",
              "  )\n",
              "  (db3): DenseBlock(\n",
              "    (fir_layer): Layer(\n",
              "      (bn1): BatchNorm2d(192, eps=1e-05, momentum=0.1, affine=True, track_running_stats=True)\n",
              "      (relu): ReLU(inplace=True)\n",
              "      (conv1): Conv2d(192, 16, kernel_size=(3, 3), stride=(1, 1), padding=(1, 1))\n",
              "      (drp): Dropout(p=0.2, inplace=False)\n",
              "    )\n",
              "  )\n",
              "  (td3): TransitionDown(\n",
              "    (bn1): BatchNorm2d(304, eps=1e-05, momentum=0.1, affine=True, track_running_stats=True)\n",
              "    (relu): ReLU(inplace=True)\n",
              "    (conv1): Conv2d(304, 304, kernel_size=(1, 1), stride=(1, 1))\n",
              "    (drp): Dropout(p=0.2, inplace=False)\n",
              "    (mxp): MaxPool2d(kernel_size=(2, 2), stride=(2, 2), padding=0, dilation=1, ceil_mode=False)\n",
              "  )\n",
              "  (db4): DenseBlock(\n",
              "    (fir_layer): Layer(\n",
              "      (bn1): BatchNorm2d(304, eps=1e-05, momentum=0.1, affine=True, track_running_stats=True)\n",
              "      (relu): ReLU(inplace=True)\n",
              "      (conv1): Conv2d(304, 16, kernel_size=(3, 3), stride=(1, 1), padding=(1, 1))\n",
              "      (drp): Dropout(p=0.2, inplace=False)\n",
              "    )\n",
              "  )\n",
              "  (td4): TransitionDown(\n",
              "    (bn1): BatchNorm2d(464, eps=1e-05, momentum=0.1, affine=True, track_running_stats=True)\n",
              "    (relu): ReLU(inplace=True)\n",
              "    (conv1): Conv2d(464, 464, kernel_size=(1, 1), stride=(1, 1))\n",
              "    (drp): Dropout(p=0.2, inplace=False)\n",
              "    (mxp): MaxPool2d(kernel_size=(2, 2), stride=(2, 2), padding=0, dilation=1, ceil_mode=False)\n",
              "  )\n",
              "  (db5): DenseBlock(\n",
              "    (fir_layer): Layer(\n",
              "      (bn1): BatchNorm2d(464, eps=1e-05, momentum=0.1, affine=True, track_running_stats=True)\n",
              "      (relu): ReLU(inplace=True)\n",
              "      (conv1): Conv2d(464, 16, kernel_size=(3, 3), stride=(1, 1), padding=(1, 1))\n",
              "      (drp): Dropout(p=0.2, inplace=False)\n",
              "    )\n",
              "  )\n",
              "  (td5): TransitionDown(\n",
              "    (bn1): BatchNorm2d(656, eps=1e-05, momentum=0.1, affine=True, track_running_stats=True)\n",
              "    (relu): ReLU(inplace=True)\n",
              "    (conv1): Conv2d(656, 656, kernel_size=(1, 1), stride=(1, 1))\n",
              "    (drp): Dropout(p=0.2, inplace=False)\n",
              "    (mxp): MaxPool2d(kernel_size=(2, 2), stride=(2, 2), padding=0, dilation=1, ceil_mode=False)\n",
              "  )\n",
              "  (db6): DenseBlock(\n",
              "    (fir_layer): Layer(\n",
              "      (bn1): BatchNorm2d(656, eps=1e-05, momentum=0.1, affine=True, track_running_stats=True)\n",
              "      (relu): ReLU(inplace=True)\n",
              "      (conv1): Conv2d(656, 16, kernel_size=(3, 3), stride=(1, 1), padding=(1, 1))\n",
              "      (drp): Dropout(p=0.2, inplace=False)\n",
              "    )\n",
              "  )\n",
              "  (tu1): TransitionUP(\n",
              "    (trcv): ConvTranspose2d(896, 896, kernel_size=(3, 3), stride=(2, 2), padding=(1, 1), output_padding=(1, 1))\n",
              "  )\n",
              "  (db7): DenseBlock(\n",
              "    (fir_layer): Layer(\n",
              "      (bn1): BatchNorm2d(896, eps=1e-05, momentum=0.1, affine=True, track_running_stats=True)\n",
              "      (relu): ReLU(inplace=True)\n",
              "      (conv1): Conv2d(896, 16, kernel_size=(3, 3), stride=(1, 1), padding=(1, 1))\n",
              "      (drp): Dropout(p=0.2, inplace=False)\n",
              "    )\n",
              "  )\n",
              "  (tu2): TransitionUP(\n",
              "    (trcv): ConvTranspose2d(1088, 656, kernel_size=(3, 3), stride=(2, 2), padding=(1, 1), output_padding=(1, 1))\n",
              "  )\n",
              "  (db8): DenseBlock(\n",
              "    (fir_layer): Layer(\n",
              "      (bn1): BatchNorm2d(656, eps=1e-05, momentum=0.1, affine=True, track_running_stats=True)\n",
              "      (relu): ReLU(inplace=True)\n",
              "      (conv1): Conv2d(656, 16, kernel_size=(3, 3), stride=(1, 1), padding=(1, 1))\n",
              "      (drp): Dropout(p=0.2, inplace=False)\n",
              "    )\n",
              "  )\n",
              "  (tu3): TransitionUP(\n",
              "    (trcv): ConvTranspose2d(816, 466, kernel_size=(3, 3), stride=(2, 2), padding=(1, 1), output_padding=(1, 1))\n",
              "  )\n",
              "  (db9): DenseBlock(\n",
              "    (fir_layer): Layer(\n",
              "      (bn1): BatchNorm2d(466, eps=1e-05, momentum=0.1, affine=True, track_running_stats=True)\n",
              "      (relu): ReLU(inplace=True)\n",
              "      (conv1): Conv2d(466, 16, kernel_size=(3, 3), stride=(1, 1), padding=(1, 1))\n",
              "      (drp): Dropout(p=0.2, inplace=False)\n",
              "    )\n",
              "  )\n",
              "  (tu4): TransitionUP(\n",
              "    (trcv): ConvTranspose2d(578, 304, kernel_size=(3, 3), stride=(2, 2), padding=(1, 1), output_padding=(1, 1))\n",
              "  )\n",
              "  (db10): DenseBlock(\n",
              "    (fir_layer): Layer(\n",
              "      (bn1): BatchNorm2d(304, eps=1e-05, momentum=0.1, affine=True, track_running_stats=True)\n",
              "      (relu): ReLU(inplace=True)\n",
              "      (conv1): Conv2d(304, 16, kernel_size=(3, 3), stride=(1, 1), padding=(1, 1))\n",
              "      (drp): Dropout(p=0.2, inplace=False)\n",
              "    )\n",
              "  )\n",
              "  (tu5): TransitionUP(\n",
              "    (trcv): ConvTranspose2d(384, 192, kernel_size=(3, 3), stride=(2, 2), padding=(1, 1), output_padding=(1, 1))\n",
              "  )\n",
              "  (db11): DenseBlock(\n",
              "    (fir_layer): Layer(\n",
              "      (bn1): BatchNorm2d(192, eps=1e-05, momentum=0.1, affine=True, track_running_stats=True)\n",
              "      (relu): ReLU(inplace=True)\n",
              "      (conv1): Conv2d(192, 16, kernel_size=(3, 3), stride=(1, 1), padding=(1, 1))\n",
              "      (drp): Dropout(p=0.2, inplace=False)\n",
              "    )\n",
              "  )\n",
              "  (convlast): Conv2d(256, 1, kernel_size=(1, 1), stride=(1, 1))\n",
              "  (sig): Sigmoid()\n",
              ")"
            ]
          },
          "execution_count": 63,
          "metadata": {},
          "output_type": "execute_result"
        }
      ],
      "source": [
        "model2 = FCDenseNet103(1, sig=False)\n",
        "model2.load_state_dict(torch.load('model'))\n",
        "model2 = model2.to(DEVICE)\n",
        "model2.eval()"
      ]
    },
    {
      "cell_type": "code",
      "execution_count": null,
      "metadata": {
        "colab": {
          "base_uri": "https://localhost:8080/"
        },
        "id": "Ts6pX4OoyPCR",
        "outputId": "d87c4a89-f1ea-4fcf-bd63-6d29e88c83f9"
      },
      "outputs": [
        {
          "name": "stderr",
          "output_type": "stream",
          "text": [
            "\repoch:   0%|          | 0/4 [00:00<?, ?it/s]"
          ]
        },
        {
          "name": "stdout",
          "output_type": "stream",
          "text": [
            "28.947749312490952\n",
            "57.895498624981904\n",
            "86.84324793747287\n",
            "lr=[1e-05]\n",
            "Bruhs:0\n",
            "loss 1.8022103287357305\n",
            "train_acc 0.09562935206703463\n"
          ]
        },
        {
          "name": "stderr",
          "output_type": "stream",
          "text": [
            "epoch:  25%|██▌       | 1/4 [14:10<42:32, 850.79s/it]"
          ]
        },
        {
          "name": "stdout",
          "output_type": "stream",
          "text": [
            "\n",
            "Epoch 001 train_loss: 1.8022     val_loss 0.9662 train_acc 0.0956 val_acc 0.0658\n",
            "28.947749312490952\n",
            "57.895498624981904\n",
            "86.84324793747287\n",
            "lr=[1e-05]\n",
            "Bruhs:0\n",
            "loss 1.1788082161134805\n",
            "train_acc 0.09991673872585899\n"
          ]
        },
        {
          "name": "stderr",
          "output_type": "stream",
          "text": [
            "epoch:  50%|█████     | 2/4 [28:22<28:23, 851.60s/it]"
          ]
        },
        {
          "name": "stdout",
          "output_type": "stream",
          "text": [
            "\n",
            "Epoch 002 train_loss: 1.1788     val_loss 1.0097 train_acc 0.0999 val_acc 0.0632\n",
            "28.947749312490952\n",
            "57.895498624981904\n",
            "86.84324793747287\n",
            "lr=[1e-05]\n",
            "Bruhs:0\n",
            "loss 1.144869783696819\n",
            "train_acc 0.100461578014762\n"
          ]
        },
        {
          "name": "stderr",
          "output_type": "stream",
          "text": [
            "epoch:  75%|███████▌  | 3/4 [42:35<14:11, 851.83s/it]"
          ]
        },
        {
          "name": "stdout",
          "output_type": "stream",
          "text": [
            "\n",
            "Epoch 003 train_loss: 1.1449     val_loss 0.9387 train_acc 0.1005 val_acc 0.0639\n",
            "28.947749312490952\n",
            "57.895498624981904\n",
            "86.84324793747287\n",
            "lr=[1e-05]\n",
            "Bruhs:0\n",
            "loss 1.0958616282372182\n",
            "train_acc 0.10394843083952643\n"
          ]
        },
        {
          "name": "stderr",
          "output_type": "stream",
          "text": [
            "epoch: 100%|██████████| 4/4 [56:46<00:00, 851.55s/it]"
          ]
        },
        {
          "name": "stdout",
          "output_type": "stream",
          "text": [
            "\n",
            "Epoch 004 train_loss: 1.0959     val_loss 0.9330 train_acc 0.1039 val_acc 0.0658\n"
          ]
        },
        {
          "name": "stderr",
          "output_type": "stream",
          "text": [
            "\n"
          ]
        }
      ],
      "source": [
        " history = train(model2, 4, 20, train_loader, val_loader, 1e-5)"
      ]
    },
    {
      "cell_type": "code",
      "execution_count": null,
      "metadata": {
        "id": "vJ2VtSGMC-ff"
      },
      "outputs": [],
      "source": [
        "torch.save(model2.state_dict(), 'model2')\n",
        "\n",
        "for layer in model2.children():\n",
        "    for param in layer.parameters():\n",
        "      param.requires_grad = False\n",
        "\n",
        "model2 = nn.Sequential(\n",
        "    model2,  # your NN\n",
        "    CRF(n_spatial_dims=2),\n",
        "    CRF(n_spatial_dims=2)\n",
        "\n",
        ")"
      ]
    },
    {
      "cell_type": "code",
      "execution_count": null,
      "metadata": {
        "id": "8la2avrBD7_A"
      },
      "outputs": [],
      "source": [
        "history = train(model2, 3, 20, train_loader, val_loader, 1e-3)"
      ]
    },
    {
      "cell_type": "code",
      "execution_count": null,
      "metadata": {
        "colab": {
          "base_uri": "https://localhost:8080/",
          "height": 551
        },
        "id": "3STwg7CGi4dy",
        "outputId": "b57ec170-4260-40e7-f0c6-1abec8cb668f"
      },
      "outputs": [
        {
          "data": {
            "image/png": "[encoded data removed]",
            "text/plain": [
              "<Figure size 1080x648 with 1 Axes>"
            ]
          },
          "metadata": {},
          "output_type": "display_data"
        }
      ],
      "source": [
        "loss, acc, val_loss, val_acc = zip(*history)\n",
        "plt.figure(figsize=(15, 9))\n",
        "plt.plot(loss, label=\"train_loss\")\n",
        "plt.plot(val_loss, label=\"val_loss\") \n",
        "plt.legend(loc='best')\n",
        "plt.xlabel(\"epochs\")\n",
        "plt.ylabel(\"loss\")\n",
        "plt.show()"
      ]
    },
    {
      "cell_type": "code",
      "execution_count": null,
      "metadata": {
        "id": "Pfpw1gOBDfar"
      },
      "outputs": [],
      "source": [
        "model2 = nn.Sequential(\n",
        "    model2,  # your NN\n",
        "    CRF(n_spatial_dims=2),\n",
        "    CRF(n_spatial_dims=2)\n",
        "\n",
        ")"
      ]
    },
    {
      "cell_type": "code",
      "execution_count": null,
      "metadata": {
        "colab": {
          "base_uri": "https://localhost:8080/",
          "height": 1000
        },
        "id": "3gI7JX0ajYfm",
        "outputId": "e7c1533d-90f2-42be-8262-cb2de6663e2b"
      },
      "outputs": [
        {
          "name": "stderr",
          "output_type": "stream",
          "text": [
            "Clipping input data to the valid range for imshow with RGB data ([0..1] for floats or [0..255] for integers).\n"
          ]
        },
        {
          "name": "stdout",
          "output_type": "stream",
          "text": [
            "mean: tensor(-0.4509)\n"
          ]
        },
        {
          "data": {
            "image/png": "[encoded data removed]",
            "text/plain": [
              "<Figure size 432x288 with 1 Axes>"
            ]
          },
          "metadata": {},
          "output_type": "display_data"
        },
        {
          "data": {
            "image/png": "[encoded data removed]",
            "text/plain": [
              "<Figure size 432x288 with 1 Axes>"
            ]
          },
          "metadata": {},
          "output_type": "display_data"
        },
        {
          "data": {
            "image/png": "[encoded data removed]",
            "text/plain": [
              "<Figure size 432x288 with 1 Axes>"
            ]
          },
          "metadata": {},
          "output_type": "display_data"
        },
        {
          "data": {
            "image/png": "[encoded data removed]",
            "text/plain": [
              "<Figure size 432x288 with 1 Axes>"
            ]
          },
          "metadata": {},
          "output_type": "display_data"
        }
      ],
      "source": [
        "import torch.nn as nn\n",
        "\n",
        "for x, y, c in train_loader:\n",
        "  x2 = x[0]\n",
        "  print(\"mean: \" + str(torch.mean(x2)))\n",
        "  plt.imshow(x2.permute(1, 2, 0))\n",
        "  plt.show()\n",
        "  plt.imshow(y[0][0], cmap='gray')\n",
        "  plt.show()\n",
        "  x = x.to(DEVICE)\n",
        "  res = model2(x)[0].cpu().detach()\n",
        "  plt.imshow(res[0], cmap='gray')\n",
        "  plt.show()\n",
        "  res2 = torch.where(res[0] > 0, 1, 0)\n",
        "  plt.imshow(res2, cmap='gray')\n",
        "  plt.show()\n",
        "  break"
      ]
    },
    {
      "cell_type": "code",
      "execution_count": null,
      "metadata": {
        "id": "xDdgRAl9-6UD"
      },
      "outputs": [],
      "source": [
        ""
      ]
    },
    {
      "cell_type": "code",
      "execution_count": null,
      "metadata": {
        "id": "uX2gTWT1YXBT"
      },
      "outputs": [],
      "source": [
        ""
      ]
    },
    {
      "cell_type": "code",
      "execution_count": null,
      "metadata": {
        "id": "mVvz3lnHkIPt"
      },
      "outputs": [],
      "source": [
        "torch.save(model.state_dict(), \"model\")\n",
        "from google.colab import files\n",
        "\n",
        "files.download('model')"
      ]
    },
    {
      "cell_type": "code",
      "execution_count": null,
      "metadata": {
        "colab": {
          "base_uri": "https://localhost:8080/",
          "height": 521
        },
        "id": "IJtGrJNvjvd6",
        "outputId": "91eb63f4-0f93-49e1-c305-42823ddca982"
      },
      "outputs": [
        {
          "data": {
            "image/png": "[encoded data removed]",
            "text/plain": [
              "<Figure size 432x288 with 1 Axes>"
            ]
          },
          "metadata": {},
          "output_type": "display_data"
        },
        {
          "data": {
            "image/png": "[encoded data removed]",
            "text/plain": [
              "<Figure size 432x288 with 1 Axes>"
            ]
          },
          "metadata": {},
          "output_type": "display_data"
        }
      ],
      "source": [
        "\n",
        "\n",
        "cropper = ImageCropper(\"/content/2018_83253_1-1_2019-02-20 18_38_45-lv1-9768-30873-3832-3408.jpg\")\n",
        "big_squares = cropper.get_cropped_squares(250, 3)\n",
        "\n",
        "image = np.asarray(Image.open(\"/content/2018_83253_1-1_2019-02-20 18_38_45-lv1-9768-30873-3832-3408_mask.jpg\"))\n",
        "image = np.where(image > 127, 1, 0)\n",
        "h = image.shape[0]\n",
        "w = image.shape[1]\n",
        "res = np.ones((h, w))\n",
        "cur_h = 0\n",
        "cur_w = 0\n",
        "siq = nn.Sigmoid()\n",
        "for i1 in big_squares:\n",
        "  i1 = torch.from_numpy(i1).to(DEVICE)\n",
        "  i1 = torch.unsqueeze(i1, 0)\n",
        "  i1 = torch.permute(i1, (0, 3, 1, 2))\n",
        "  i1 = i1.float()\n",
        "  i1 = model2(i1)\n",
        "  i1 = i1.cpu().detach().numpy()[0, 0, 3: 253, 3:353]\n",
        "  den_h = 250\n",
        "  den_w = 250\n",
        "  end_h = cur_h + 250\n",
        "  end_w = cur_w + 250\n",
        "  if (cur_h + 250) >= h:\n",
        "    den_h =  (cur_h + 250) % h\n",
        "    end_h = h\n",
        "  if (cur_w + 250) >= w:\n",
        "    den_w = (cur_w + 250) % w\n",
        "    end_w = w\n",
        "  res[cur_h: end_h, cur_w: end_w] = i1[0: end_h - cur_h, 0: end_w - cur_w]\n",
        "  cur_w += 250\n",
        "  if (cur_w) >= w:\n",
        "    cur_w = 0\n",
        "    cur_h += 250\n",
        "\n",
        "plt.imshow(res, cmap='gray')\n",
        "plt.show()\n",
        "\n",
        "plt.imshow(image, cmap='gray')\n",
        "plt.show()"
      ]
    },
    {
      "cell_type": "code",
      "execution_count": null,
      "metadata": {
        "colab": {
          "base_uri": "https://localhost:8080/"
        },
        "id": "Zppc8nlBs_pO",
        "outputId": "1c4a9fc7-7f73-4252-ae20-46b8b4dcce12"
      },
      "outputs": [
        {
          "name": "stdout",
          "output_type": "stream",
          "text": [
            "[[-23.84659386 -15.15929794 -28.48319244 ... -16.60500336 -29.70514488\n",
            "  -16.99307442]\n",
            " [-12.38460827 -20.54429817 -14.71802807 ... -19.59851265 -13.61673546\n",
            "  -23.97152138]\n",
            " [-24.53795052 -16.82509995 -32.5371933  ... -18.76146889 -29.91947365\n",
            "  -18.53858185]\n",
            " ...\n",
            " [-19.57279396 -23.94644165 -21.79637146 ... -23.55018997 -23.2297821\n",
            "  -27.24441147]\n",
            " [-22.7756424  -18.86795425 -26.81448746 ... -23.25140762 -27.21771622\n",
            "  -21.67504692]\n",
            " [-13.63965702 -15.42912483 -15.54699326 ... -14.73898506 -16.2720108\n",
            "  -18.19245529]]\n"
          ]
        }
      ],
      "source": [
        "print(res)"
      ]
    },
    {
      "cell_type": "code",
      "execution_count": null,
      "metadata": {
        "colab": {
          "base_uri": "https://localhost:8080/",
          "height": 521
        },
        "id": "M8L5P3_Hjuu0",
        "outputId": "15e86205-2bbf-4a91-a3cf-93f5b0b351bc"
      },
      "outputs": [
        {
          "data": {
            "image/png": "[encoded data removed]",
            "text/plain": [
              "<Figure size 432x288 with 1 Axes>"
            ]
          },
          "metadata": {},
          "output_type": "display_data"
        },
        {
          "data": {
            "image/png": "[encoded data removed]",
            "text/plain": [
              "<Figure size 432x288 with 1 Axes>"
            ]
          },
          "metadata": {},
          "output_type": "display_data"
        }
      ],
      "source": [
        "res2 = np.where(res > -10, 1, 0)\n",
        "plt.imshow(res2, cmap='gray')\n",
        "plt.show()\n",
        "\n",
        "plt.imshow(image, cmap='gray')\n",
        "plt.show()"
      ]
    },
    {
      "cell_type": "code",
      "execution_count": null,
      "metadata": {
        "id": "sgdf0D2GCkFz"
      },
      "outputs": [],
      "source": [
        "my_file = Path(\"/content/data/cropped_data/img1_mask.jpg\")\n",
        "if my_file.is_file():\n",
        "    print(\"Exists\")\n",
        "    # file exists"
      ]
    }
  ],
  "metadata": {
    "accelerator": "GPU",
    "colab": {
      "collapsed_sections": [],
      "name": "DenseNets.ipynb",
      "provenance": []
    },
    "kernelspec": {
      "display_name": "Python 3",
      "name": "python3"
    },
    "language_info": {
      "name": "python"
    }
  },
  "nbformat": 4,
  "nbformat_minor": 0
}